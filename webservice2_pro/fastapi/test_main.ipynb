{
 "cells": [
  {
   "cell_type": "code",
   "execution_count": 1,
   "metadata": {},
   "outputs": [
    {
     "name": "stdout",
     "output_type": "stream",
     "text": [
      "{\"message\":\"Hello Man\"}\n"
     ]
    }
   ],
   "source": [
    "import requests\n",
    "\n",
    "response = requests.post('http://127.0.0.1:8000/test')\n",
    "print(response.text)\n"
   ]
  },
  {
   "cell_type": "code",
   "execution_count": 1,
   "metadata": {},
   "outputs": [
    {
     "name": "stdout",
     "output_type": "stream",
     "text": [
      "Статус Код: 200\n",
      "Заголовки: {'date': 'Mon, 09 Dec 2024 20:15:02 GMT', 'server': 'uvicorn', 'content-length': '1025', 'content-type': 'application/json'}\n",
      "Тело ответа:\n",
      "{\"message\":\"Для оформления страховки в Simble, вам нужно скачать приложение на ваше устройство с операционной системой iOS или Android. Затем вам потребуется указать свои данные и данные автомобиля. Если автомобиль уже зарегистрирован, вы можете найти его по номеру, если нет, то вам нужно указать данные ПТС. После этого вам необходимо сфотографировать автомобиль со всех сторон. Этот фотоосмотр нужно пройти только один раз, при первой покупке страховки. После фотоосмотра страховка будет одобрена в течение примерно 3 часов. Затем вы можете выбрать тариф и купить полис.\"}\n"
     ]
    }
   ],
   "source": [
    "import requests\n",
    "import pprint\n",
    "\n",
    "param = {\n",
    "    'text': 'Как оформить страховку в Simble?'\n",
    "}\n",
    "response = requests.post('http://127.0.0.1:8000/api/get_answer', json=param)\n",
    "\n",
    "print(f\"Статус Код: {response.status_code}\")\n",
    "print(f\"Заголовки: {response.headers}\")\n",
    "print(\"Тело ответа:\")\n",
    "print(response.text)\n"
   ]
  },
  {
   "cell_type": "code",
   "execution_count": 3,
   "metadata": {},
   "outputs": [
    {
     "name": "stdout",
     "output_type": "stream",
     "text": [
      "{'total_get_answer_requests': 2}\n"
     ]
    }
   ],
   "source": [
    "import requests\n",
    "import pprint\n",
    "\n",
    "# Пример запроса к новому эндпоинту для получения количества обращений\n",
    "response = requests.get('http://127.0.0.1:8000/api/request_count')\n",
    "pprint.pprint(response.json())\n"
   ]
  }
 ],
 "metadata": {
  "kernelspec": {
   "display_name": "venv",
   "language": "python",
   "name": "python3"
  },
  "language_info": {
   "codemirror_mode": {
    "name": "ipython",
    "version": 3
   },
   "file_extension": ".py",
   "mimetype": "text/x-python",
   "name": "python",
   "nbconvert_exporter": "python",
   "pygments_lexer": "ipython3",
   "version": "3.11.5"
  }
 },
 "nbformat": 4,
 "nbformat_minor": 2
}
