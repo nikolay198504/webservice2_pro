{
 "cells": [
  {
   "cell_type": "code",
   "execution_count": 1,
   "metadata": {},
   "outputs": [
    {
     "name": "stdout",
     "output_type": "stream",
     "text": [
      "Я консультант компании Simble. Чтобы оформить страховку в Simble, вам необходимо скачать приложение на устройство с операционной системой iOS или Android. Затем нужно указать свои данные и данные автомобиля. Если автомобиль уже зарегистрирован, можно найти его по номеру, если нет, то нужно указать данные ПТС. После этого необходимо сфотографировать автомобиль со всех сторон. Фотоосмотр нужно пройти только один раз, при первой покупке страховки. После фотоосмотра страховка будет одобрена в течение примерно 3 часов. Затем можно выбрать тариф и купить полис.\n"
     ]
    }
   ],
   "source": [
    "import nest_asyncio\n",
    "nest_asyncio.apply()\n",
    "\n",
    "import asyncio\n",
    "from chunks import Chunk\n",
    "\n",
    "chunk = Chunk()\n",
    "query = 'Какой компании ты консультант?, Как оформить страховку в Simble?'\n",
    "\n",
    "async def main():\n",
    "    result = await chunk.get_answer(query)\n",
    "    print(result)\n",
    "\n",
    "asyncio.run(main())\n"
   ]
  },
  {
   "cell_type": "code",
   "execution_count": null,
   "metadata": {},
   "outputs": [],
   "source": []
  }
 ],
 "metadata": {
  "kernelspec": {
   "display_name": "venv",
   "language": "python",
   "name": "python3"
  },
  "language_info": {
   "codemirror_mode": {
    "name": "ipython",
    "version": 3
   },
   "file_extension": ".py",
   "mimetype": "text/x-python",
   "name": "python",
   "nbconvert_exporter": "python",
   "pygments_lexer": "ipython3",
   "version": "3.11.5"
  }
 },
 "nbformat": 4,
 "nbformat_minor": 2
}
